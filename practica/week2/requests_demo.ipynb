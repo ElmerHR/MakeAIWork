{
 "cells": [
  {
   "cell_type": "code",
   "execution_count": 87,
   "id": "1dc33a92-a67e-4f9d-8e33-b009a767ffce",
   "metadata": {},
   "outputs": [
    {
     "name": "stderr",
     "output_type": "stream",
     "text": [
      "/tmp/ipykernel_860/3575498024.py:3: DeprecationWarning: Importing display from IPython.core.display is deprecated since IPython 7.14, please import from IPython display\n",
      "  from IPython.core.display import display, HTML\n"
     ]
    }
   ],
   "source": [
    "import requests\n",
    "import json\n",
    "from IPython.core.display import display, HTML\n",
    "import time"
   ]
  },
  {
   "cell_type": "markdown",
   "id": "3648a6af-0f33-4d37-9121-d424b597c1d6",
   "metadata": {},
   "source": [
    "## Steps\n",
    "\n",
    "1. Make request to an URL \n",
    "2. Check Status code\n",
    "3. Check content type\n",
    "4. Print content type\n",
    "5. Parse content type to python representation\n",
    "6. Use the data in your application"
   ]
  },
  {
   "cell_type": "code",
   "execution_count": 88,
   "id": "4f163722-1450-4376-9cd5-d32941d457b4",
   "metadata": {},
   "outputs": [],
   "source": [
    "# Make request to an URL\n",
    "emojis = requests.get('https://emojihub.yurace.pro/api/random')\n"
   ]
  },
  {
   "cell_type": "code",
   "execution_count": 89,
   "id": "4c1cca5d-b541-4f3b-ab8f-5e9745ac9897",
   "metadata": {},
   "outputs": [
    {
     "data": {
      "text/plain": [
       "200"
      ]
     },
     "execution_count": 89,
     "metadata": {},
     "output_type": "execute_result"
    }
   ],
   "source": [
    "# Check Status code\n",
    "emojis.status_code"
   ]
  },
  {
   "cell_type": "code",
   "execution_count": 90,
   "id": "78170a5a-7745-4335-9636-ab7a1b836d9c",
   "metadata": {},
   "outputs": [
    {
     "data": {
      "text/plain": [
       "'application/json'"
      ]
     },
     "execution_count": 90,
     "metadata": {},
     "output_type": "execute_result"
    }
   ],
   "source": [
    "# Check content type\n",
    "emojis.headers['content-type']"
   ]
  },
  {
   "cell_type": "code",
   "execution_count": 43,
   "id": "63453241-3f24-4e92-b1ee-deb46f101455",
   "metadata": {},
   "outputs": [
    {
     "data": {
      "text/plain": [
       "'{\"name\":\"rugby football\",\"category\":\"activities\",\"group\":\"activities\",\"htmlCode\":[\"\\\\u0026#127945;\"],\"unicode\":[\"U+1F3C9\"]}'"
      ]
     },
     "execution_count": 65,
     "metadata": {},
     "output_type": "execute_result"
    }
   ],
   "source": [
    "# Print content type as string\n",
    "emojis.text"
   ]
  },
  {
   "cell_type": "code",
   "execution_count": 91,
   "id": "5b1fc721-4521-4e2b-9dc7-0e0b4117c301",
   "metadata": {},
   "outputs": [
    {
     "data": {
      "text/plain": [
       "{'name': 'libra',\n",
       " 'category': 'symbols',\n",
       " 'group': 'symbols',\n",
       " 'htmlCode': ['&#9806;'],\n",
       " 'unicode': ['U+264E']}"
      ]
     },
     "execution_count": 91,
     "metadata": {},
     "output_type": "execute_result"
    }
   ],
   "source": [
    "# Parse content type to python data type (dictionary)\n",
    "emoji_dict = json.loads(emojis.text)\n",
    "emoji_dict"
   ]
  },
  {
   "cell_type": "code",
   "execution_count": 92,
   "id": "c1184d05-b28c-4f66-b909-0559ab8cbac9",
   "metadata": {},
   "outputs": [
    {
     "data": {
      "text/html": [
       "<p>libra (symbols) --> &#9806;</p>"
      ],
      "text/plain": [
       "<IPython.core.display.HTML object>"
      ]
     },
     "metadata": {},
     "output_type": "display_data"
    }
   ],
   "source": [
    "# use the data in the application\n",
    "for emoji in emoji_dict['htmlCode']:\n",
    "    display(HTML(f'<p>{emoji_dict[\"name\"]} ({emoji_dict[\"category\"]}) --> {emoji}</p>'))"
   ]
  },
  {
   "cell_type": "code",
   "execution_count": null,
   "id": "e6c3deee-a667-44f2-bf3c-43b8e8a2de4b",
   "metadata": {},
   "outputs": [],
   "source": []
  },
  {
   "cell_type": "code",
   "execution_count": 94,
   "id": "92281b1d-6fd5-46db-8295-19b5c359bb06",
   "metadata": {},
   "outputs": [
    {
     "data": {
      "text/html": [
       "<p style=\"font-size:25px\">person running, type-6 (smileys and people) --> <span style=\"font-size:50px\">&#127939;</span></p>"
      ],
      "text/plain": [
       "<IPython.core.display.HTML object>"
      ]
     },
     "metadata": {},
     "output_type": "display_data"
    },
    {
     "data": {
      "text/html": [
       "<p style=\"font-size:25px\">pensive face (smileys and people) --> <span style=\"font-size:50px\">&#128532;</span></p>"
      ],
      "text/plain": [
       "<IPython.core.display.HTML object>"
      ]
     },
     "metadata": {},
     "output_type": "display_data"
    },
    {
     "data": {
      "text/html": [
       "<p style=\"font-size:25px\">victory hand, type-1-2 (smileys and people) --> <span style=\"font-size:50px\">&#9996;</span></p>"
      ],
      "text/plain": [
       "<IPython.core.display.HTML object>"
      ]
     },
     "metadata": {},
     "output_type": "display_data"
    },
    {
     "data": {
      "text/html": [
       "<p style=\"font-size:25px\">shopping trolley ≊ shopping cart (objects) --> <span style=\"font-size:50px\">&#128722;</span></p>"
      ],
      "text/plain": [
       "<IPython.core.display.HTML object>"
      ]
     },
     "metadata": {},
     "output_type": "display_data"
    },
    {
     "data": {
      "text/html": [
       "<p style=\"font-size:25px\">person with turban, type-3 (smileys and people) --> <span style=\"font-size:50px\">&#128115;</span></p>"
      ],
      "text/plain": [
       "<IPython.core.display.HTML object>"
      ]
     },
     "metadata": {},
     "output_type": "display_data"
    },
    {
     "data": {
      "text/html": [
       "<p style=\"font-size:25px\">lizard (animals and nature) --> <span style=\"font-size:50px\">&#129422;</span></p>"
      ],
      "text/plain": [
       "<IPython.core.display.HTML object>"
      ]
     },
     "metadata": {},
     "output_type": "display_data"
    },
    {
     "data": {
      "text/html": [
       "<p style=\"font-size:25px\">direct hit (activities) --> <span style=\"font-size:50px\">&#127919;</span></p>"
      ],
      "text/plain": [
       "<IPython.core.display.HTML object>"
      ]
     },
     "metadata": {},
     "output_type": "display_data"
    },
    {
     "data": {
      "text/html": [
       "<p style=\"font-size:25px\">money-mouth face (smileys and people) --> <span style=\"font-size:50px\">&#129297;</span></p>"
      ],
      "text/plain": [
       "<IPython.core.display.HTML object>"
      ]
     },
     "metadata": {},
     "output_type": "display_data"
    },
    {
     "data": {
      "text/html": [
       "<p style=\"font-size:25px\">santa claus, type-1-2 (smileys and people) --> <span style=\"font-size:50px\">&#127877;</span></p>"
      ],
      "text/plain": [
       "<IPython.core.display.HTML object>"
      ]
     },
     "metadata": {},
     "output_type": "display_data"
    },
    {
     "data": {
      "text/html": [
       "<p style=\"font-size:25px\">dress (smileys and people) --> <span style=\"font-size:50px\">&#128087;</span></p>"
      ],
      "text/plain": [
       "<IPython.core.display.HTML object>"
      ]
     },
     "metadata": {},
     "output_type": "display_data"
    },
    {
     "data": {
      "text/html": [
       "<p style=\"font-size:25px\">department store (travel and places) --> <span style=\"font-size:50px\">&#127980;</span></p>"
      ],
      "text/plain": [
       "<IPython.core.display.HTML object>"
      ]
     },
     "metadata": {},
     "output_type": "display_data"
    },
    {
     "data": {
      "text/html": [
       "<p style=\"font-size:25px\">dvd (objects) --> <span style=\"font-size:50px\">&#128192;</span></p>"
      ],
      "text/plain": [
       "<IPython.core.display.HTML object>"
      ]
     },
     "metadata": {},
     "output_type": "display_data"
    },
    {
     "data": {
      "text/html": [
       "<p style=\"font-size:25px\">oncoming fist, type-6 (smileys and people) --> <span style=\"font-size:50px\">&#128074;</span></p>"
      ],
      "text/plain": [
       "<IPython.core.display.HTML object>"
      ]
     },
     "metadata": {},
     "output_type": "display_data"
    },
    {
     "data": {
      "text/html": [
       "<p style=\"font-size:25px\">speaker with one sound wave ≊ speaker on (objects) --> <span style=\"font-size:50px\">&#128265;</span></p>"
      ],
      "text/plain": [
       "<IPython.core.display.HTML object>"
      ]
     },
     "metadata": {},
     "output_type": "display_data"
    },
    {
     "data": {
      "text/html": [
       "<p style=\"font-size:25px\">person gesturing not ok, type-5 (smileys and people) --> <span style=\"font-size:50px\">&#128581;</span></p>"
      ],
      "text/plain": [
       "<IPython.core.display.HTML object>"
      ]
     },
     "metadata": {},
     "output_type": "display_data"
    },
    {
     "data": {
      "text/html": [
       "<p style=\"font-size:25px\">page with curl (objects) --> <span style=\"font-size:50px\">&#128195;</span></p>"
      ],
      "text/plain": [
       "<IPython.core.display.HTML object>"
      ]
     },
     "metadata": {},
     "output_type": "display_data"
    }
   ],
   "source": [
    "for i in range (0,20):\n",
    "    emoji = requests.get('https://emojihub.yurace.pro/api/random')\n",
    "    emoji_dict = json.loads(emoji.text)\n",
    "    if emoji_dict[\"category\"] != \"flags\":\n",
    "        display(HTML(f'<p style=\"font-size:25px\">{emoji_dict[\"name\"]} ({emoji_dict[\"category\"]}) --> <span style=\"font-size:50px\">{emoji_dict[\"htmlCode\"][0]}</span></p>'))\n",
    "    time.sleep(.1)"
   ]
  },
  {
   "cell_type": "code",
   "execution_count": 95,
   "id": "16d57d2c-4dfa-4633-aab7-754ff4aeca4c",
   "metadata": {},
   "outputs": [],
   "source": [
    "api_key = \"8f371c9a6e4a4858943122545231502\""
   ]
  },
  {
   "cell_type": "code",
   "execution_count": 99,
   "id": "e637319c-45fb-4e2e-a276-88aa3176a3ec",
   "metadata": {},
   "outputs": [],
   "source": [
    "r = requests.get(f'http://api.weatherapi.com/v1/current.json?q=Brazil&key={api_key}')"
   ]
  },
  {
   "cell_type": "code",
   "execution_count": 100,
   "id": "2bd25c28-97e4-4cce-94d0-b6a6544ee27e",
   "metadata": {},
   "outputs": [
    {
     "data": {
      "text/plain": [
       "200"
      ]
     },
     "execution_count": 100,
     "metadata": {},
     "output_type": "execute_result"
    }
   ],
   "source": [
    "r.status_code"
   ]
  },
  {
   "cell_type": "code",
   "execution_count": 101,
   "id": "9186b31a-4e65-46b5-a732-914157c81ff7",
   "metadata": {},
   "outputs": [
    {
     "data": {
      "text/plain": [
       "{'location': {'name': 'Brasilia',\n",
       "  'region': 'Distrito Federal',\n",
       "  'country': 'Brazil',\n",
       "  'lat': -15.78,\n",
       "  'lon': -47.92,\n",
       "  'tz_id': 'America/Sao_Paulo',\n",
       "  'localtime_epoch': 1676475025,\n",
       "  'localtime': '2023-02-15 12:30'},\n",
       " 'current': {'last_updated_epoch': 1676475000,\n",
       "  'last_updated': '2023-02-15 12:30',\n",
       "  'temp_c': 30.0,\n",
       "  'temp_f': 86.0,\n",
       "  'is_day': 1,\n",
       "  'condition': {'text': 'Partly cloudy',\n",
       "   'icon': '//cdn.weatherapi.com/weather/64x64/day/116.png',\n",
       "   'code': 1003},\n",
       "  'wind_mph': 6.9,\n",
       "  'wind_kph': 11.2,\n",
       "  'wind_degree': 360,\n",
       "  'wind_dir': 'N',\n",
       "  'pressure_mb': 1017.0,\n",
       "  'pressure_in': 30.03,\n",
       "  'precip_mm': 0.0,\n",
       "  'precip_in': 0.0,\n",
       "  'humidity': 35,\n",
       "  'cloud': 50,\n",
       "  'feelslike_c': 29.5,\n",
       "  'feelslike_f': 85.0,\n",
       "  'vis_km': 10.0,\n",
       "  'vis_miles': 6.0,\n",
       "  'uv': 8.0,\n",
       "  'gust_mph': 3.8,\n",
       "  'gust_kph': 6.1}}"
      ]
     },
     "execution_count": 101,
     "metadata": {},
     "output_type": "execute_result"
    }
   ],
   "source": [
    "current_weather = json.loads(r.text)\n",
    "current_weather"
   ]
  },
  {
   "cell_type": "code",
   "execution_count": null,
   "id": "6d0612a8-ad32-4909-94e9-74e818f54fbd",
   "metadata": {},
   "outputs": [],
   "source": []
  },
  {
   "cell_type": "code",
   "execution_count": null,
   "id": "f097079e-6d81-4a69-be64-c91cd2d700b0",
   "metadata": {},
   "outputs": [],
   "source": []
  }
 ],
 "metadata": {
  "kernelspec": {
   "display_name": "Python 3 (ipykernel)",
   "language": "python",
   "name": "python3"
  },
  "language_info": {
   "codemirror_mode": {
    "name": "ipython",
    "version": 3
   },
   "file_extension": ".py",
   "mimetype": "text/x-python",
   "name": "python",
   "nbconvert_exporter": "python",
   "pygments_lexer": "ipython3",
   "version": "3.10.8"
  }
 },
 "nbformat": 4,
 "nbformat_minor": 5
}
