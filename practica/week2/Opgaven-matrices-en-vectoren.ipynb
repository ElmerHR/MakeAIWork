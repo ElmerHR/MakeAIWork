{
 "cells": [
  {
   "cell_type": "markdown",
   "id": "2ea724be",
   "metadata": {},
   "source": [
    "# Matrices en vectoren"
   ]
  },
  {
   "cell_type": "markdown",
   "id": "18595eca",
   "metadata": {},
   "source": [
    "Er zijn meerdere manieren om een matrix te representeren.\n",
    "\n",
    "Hier kiezen we voor het volgende datamodel:\n",
    "\n",
    "`matrix_2D :: {rows: int, cols: int, data: []}`\n",
    "\n",
    "Implementeer onderstaande opdrachten in Python."
   ]
  },
  {
   "cell_type": "markdown",
   "id": "42182308",
   "metadata": {},
   "source": [
    "## Vectoren"
   ]
  },
  {
   "cell_type": "markdown",
   "id": "db43ccb1",
   "metadata": {},
   "source": [
    "### 1. Een vector als rij*"
   ]
  },
  {
   "cell_type": "markdown",
   "id": "e9ac731a",
   "metadata": {},
   "source": [
    "Representeer de onderstaande vector in code:\n",
    "\n",
    "$$\n",
    "  \\begin{pmatrix}\n",
    "    1 & 2 & 3\n",
    "  \\end{pmatrix}\n",
    "$$"
   ]
  },
  {
   "cell_type": "code",
   "execution_count": 35,
   "id": "72c55633",
   "metadata": {},
   "outputs": [
    {
     "name": "stdout",
     "output_type": "stream",
     "text": [
      "1x3 matrix\n"
     ]
    },
    {
     "data": {
      "text/plain": [
       "'number of elements: 3'"
      ]
     },
     "execution_count": 35,
     "metadata": {},
     "output_type": "execute_result"
    }
   ],
   "source": [
    "# How many rows and colums does this vector have?\n",
    "\n",
    "# 1 row and three columns\n",
    "\n",
    "# Use the definition at the top to implement this vector:\n",
    "\n",
    "vec = {\"rows\": 1, \"cols\": 3, \"data\": [1, 2, 3]}\n",
    "\n",
    "# Can you print its dimensions? (rows, cols)\n",
    "\n",
    "print(f\"{vec['rows']}x{vec['cols']} matrix\")\n",
    "\n",
    "# Can you print the number of elements?\n",
    "\n",
    "f\"number of elements: {vec['rows']*vec['cols']}\""
   ]
  },
  {
   "cell_type": "markdown",
   "id": "0abbc0ad",
   "metadata": {},
   "source": [
    "### 2. Een vector als kolom*"
   ]
  },
  {
   "cell_type": "markdown",
   "id": "ac4f647f",
   "metadata": {},
   "source": [
    "Representeer de onderstaande vector in code:\n",
    "\n",
    "$$\n",
    "  \\begin{pmatrix}\n",
    "    1 \\\\\n",
    "    2 \\\\\n",
    "    3\n",
    "  \\end{pmatrix}\n",
    "$$"
   ]
  },
  {
   "cell_type": "code",
   "execution_count": 36,
   "id": "f4f6bfc9",
   "metadata": {},
   "outputs": [
    {
     "name": "stdout",
     "output_type": "stream",
     "text": [
      "3x1 matrix\n"
     ]
    },
    {
     "data": {
      "text/plain": [
       "'number of elements: 3'"
      ]
     },
     "execution_count": 36,
     "metadata": {},
     "output_type": "execute_result"
    }
   ],
   "source": [
    "# How many rows and colums does this vector have?\n",
    "\n",
    "# 3 rows and 1 column\n",
    "\n",
    "# Use the definition at the top to implement this vector:\n",
    "\n",
    "vec = {\"rows\": 3, \"cols\": 1, \"data\": [1, 2, 3]}\n",
    "\n",
    "# Can you print its dimensions? (rows, cols)\n",
    "\n",
    "print(f\"{vec['rows']}x{vec['cols']} matrix\")\n",
    "\n",
    "# Can you print the number of elements?\n",
    "\n",
    "f\"number of elements: {vec['rows']*vec['cols']}\""
   ]
  },
  {
   "cell_type": "markdown",
   "id": "8de02084",
   "metadata": {},
   "source": [
    "### 3. Vectoren optellen**"
   ]
  },
  {
   "cell_type": "markdown",
   "id": "c2edbb39",
   "metadata": {},
   "source": [
    "Tel de onderstaande vectoren bij elkaar op:\n",
    "\n",
    "$$\n",
    "  \\begin{pmatrix}\n",
    "    1 \\\\\n",
    "    2 \\\\\n",
    "    3\n",
    "  \\end{pmatrix}\n",
    "  +\n",
    "    \\begin{pmatrix}\n",
    "    9 \\\\\n",
    "    8 \\\\\n",
    "    7\n",
    "  \\end{pmatrix}\n",
    "  =\n",
    "  ...\n",
    "$$"
   ]
  },
  {
   "cell_type": "code",
   "execution_count": 40,
   "id": "9fd6bc2a",
   "metadata": {},
   "outputs": [
    {
     "data": {
      "text/plain": [
       "{'rows': 3, 'cols': 1, 'data': [10, 10, 10]}"
      ]
     },
     "execution_count": 40,
     "metadata": {},
     "output_type": "execute_result"
    }
   ],
   "source": [
    "# Implement both vectors:\n",
    "\n",
    "vec1 = {\"rows\": 3, \"cols\": 1, \"data\": [1, 2, 3]}\n",
    "vec2 = {\"rows\": 3, \"cols\": 1, \"data\": [9, 8, 7]}\n",
    "\n",
    "# Can we add them? Check if dimensions are the same:\n",
    "\n",
    "vec1['rows'] == vec2['rows']\n",
    "\n",
    "# How do you add these vectors by hand?\n",
    "\n",
    "# Add the first row value of the first vector to the first row of the second vector\n",
    "\n",
    "# Now add the vectors in code:\n",
    "data = []\n",
    "for i, coord in enumerate(vec1['data']):\n",
    "    data.append(coord + vec2['data'][i])\n",
    "vec_sum = {'rows': vec1['rows'], 'cols': vec1['cols'], 'data': data}\n",
    "vec_sum"
   ]
  },
  {
   "cell_type": "markdown",
   "id": "10e3be49",
   "metadata": {},
   "source": [
    "Tel de onderstaande vectoren bij elkaar op:\n",
    "\n",
    "$$\n",
    "  \\begin{pmatrix}\n",
    "    1 & 2 & 3\n",
    "  \\end{pmatrix}\n",
    "  +\n",
    "  \\begin{pmatrix}\n",
    "    9 & 8 & 7\n",
    "  \\end{pmatrix}\n",
    "  =\n",
    "  ...\n",
    "$$"
   ]
  },
  {
   "cell_type": "code",
   "execution_count": 41,
   "id": "3319db0c",
   "metadata": {},
   "outputs": [
    {
     "data": {
      "text/plain": [
       "{'rows': 1, 'cols': 3, 'data': [10, 10, 10]}"
      ]
     },
     "execution_count": 41,
     "metadata": {},
     "output_type": "execute_result"
    }
   ],
   "source": [
    "# Implement both vectors:\n",
    "\n",
    "vec1 = {\"rows\": 1, \"cols\": 3, \"data\": [1, 2, 3]}\n",
    "vec2 = {\"rows\": 1, \"cols\": 3, \"data\": [9, 8, 7]}\n",
    "\n",
    "# Can we add them? Check if dimensions are the same:\n",
    "\n",
    "vec1['cols'] == vec2['cols']\n",
    "\n",
    "# How do you add these vectors by hand?\n",
    "\n",
    "# element wise summation\n",
    "\n",
    "# Now add the vectors in code:\n",
    "\n",
    "data = []\n",
    "for i, coord in enumerate(vec1['data']):\n",
    "    data.append(coord + vec2['data'][i])\n",
    "vec_sum = {'rows': vec1['rows'], 'cols': vec1['cols'], 'data': data}\n",
    "vec_sum"
   ]
  },
  {
   "cell_type": "markdown",
   "id": "ecf7d53a",
   "metadata": {},
   "source": [
    "## Matrices"
   ]
  },
  {
   "cell_type": "markdown",
   "id": "aea58d0c",
   "metadata": {},
   "source": [
    "### 1. Een 3 x 3 matrix*"
   ]
  },
  {
   "cell_type": "markdown",
   "id": "8ecdf748",
   "metadata": {},
   "source": [
    "Representeer de onderstaande matrix in code:\n",
    "\n",
    "$$\n",
    "  \\begin{pmatrix}\n",
    "    1 & 2 & 3\\\\\n",
    "    4 & 5 & 6\\\\\n",
    "    7 & 8 & 9\\\\\n",
    "  \\end{pmatrix}\n",
    "$$"
   ]
  },
  {
   "cell_type": "code",
   "execution_count": 43,
   "id": "744a8d77",
   "metadata": {},
   "outputs": [
    {
     "name": "stdout",
     "output_type": "stream",
     "text": [
      "3x3 matrix\n"
     ]
    },
    {
     "data": {
      "text/plain": [
       "'number of elements: 9'"
      ]
     },
     "execution_count": 43,
     "metadata": {},
     "output_type": "execute_result"
    }
   ],
   "source": [
    "# How many rows and colums does this matrix have?\n",
    "\n",
    "# 3 x 3\n",
    "\n",
    "# Use the definition at the top to implement this matrix:\n",
    "\n",
    "mat = {\"rows\": 3, \"cols\": 3, \"data\": [1, 2, 3, 4, 5, 6, 7, 8, 9]}\n",
    "\n",
    "# Can you print its dimensions? (rows, cols)\n",
    "\n",
    "print(f\"{mat['rows']}x{mat['cols']} matrix\")\n",
    "\n",
    "# Can you print the number of elements?\n",
    "\n",
    "f\"number of elements: {mat['rows']*mat['cols']}\""
   ]
  },
  {
   "cell_type": "markdown",
   "id": "78d195fb",
   "metadata": {},
   "source": [
    "### 2. Matrices optellen**"
   ]
  },
  {
   "cell_type": "markdown",
   "id": "1554b6d8",
   "metadata": {},
   "source": [
    "Tel de onderstaande matrices op:\n",
    "\n",
    "$$\n",
    "  \\begin{pmatrix}\n",
    "    1 & 2 & 3\\\\\n",
    "    4 & 5 & 6\\\\\n",
    "    7 & 8 & 9\\\\\n",
    "  \\end{pmatrix}\n",
    "  +\n",
    "    \\begin{pmatrix}\n",
    "    9 & 8 & 7\\\\\n",
    "    6 & 5 & 4\\\\\n",
    "    3 & 2 & 1\\\\\n",
    "  \\end{pmatrix}\n",
    "  =\n",
    "  ...\n",
    "$$"
   ]
  },
  {
   "cell_type": "code",
   "execution_count": 55,
   "id": "ac6bd48c",
   "metadata": {},
   "outputs": [
    {
     "name": "stdout",
     "output_type": "stream",
     "text": [
      "{'rows': 3, 'cols': 3, 'data': [10, 10, 10, 10, 10, 10, 10, 10, 10]}\n",
      "{'rows': 4, 'cols': 3, 'data': [10, 10, 10, 10, 10, 10, 10, 10, 10, 10, 10, 10]}\n"
     ]
    }
   ],
   "source": [
    "# Implement both matrices:\n",
    "\n",
    "mat1 = {\"rows\": 3, \"cols\": 3, \"data\": [1, 2, 3, 4, 5, 6, 7, 8, 9]}\n",
    "mat2 = {\"rows\": 3, \"cols\": 3, \"data\": [9, 8, 7, 6, 5, 4, 3, 2, 1]}\n",
    "\n",
    "# Can we add them? Check if dimensions are the same:\n",
    "\n",
    "mat1['rows'] == mat2['rows'] and mat1['cols'] == mat2['cols']\n",
    "\n",
    "# How do you add these matrices by hand?\n",
    "\n",
    "# add the first element of the first mat to the first element of the second mat, repeat for all elements\n",
    "\n",
    "# Now add the matrices in code:\n",
    "data = []\n",
    "for i in range(mat1['rows']*mat1['cols']):\n",
    "    data.append(mat1['data'][i] + mat2['data'][i])\n",
    "\n",
    "mat_sum = {'rows': mat1['rows'], 'cols': mat1['cols'], 'data': data}\n",
    "print(mat_sum)\n",
    "\n",
    "# In case you didn't: can you generalize this algorithm?\n",
    "\n",
    "mat1 = {\"rows\": 4, \"cols\": 3, \"data\": [1, 2, 3, 4, 5, 6, 7, 8, 9, 10, 11, 12]}\n",
    "mat2 = {\"rows\": 4, \"cols\": 3, \"data\": [9, 8, 7, 6, 5, 4, 3, 2, 1, 0, -1, -2]}\n",
    "\n",
    "if mat1['rows'] == mat2['rows'] and mat1['cols'] == mat2['cols']:\n",
    "    data = []\n",
    "    for i in range(mat1['rows']*mat1['cols']):\n",
    "        data.append(mat1['data'][i] + mat2['data'][i])\n",
    "\n",
    "    mat_sum = {'rows': mat1['rows'], 'cols': mat1['cols'], 'data': data}\n",
    "    print(mat_sum)\n",
    "else:\n",
    "    print(f\"Not able to sum, matrices are not of the same shape:\\nmat1 has shape: {mat1['rows']}x{mat1['cols']}, while mat2 has shape: {mat2['rows']}x{mat2['cols']}\")"
   ]
  },
  {
   "cell_type": "markdown",
   "id": "7bff9837",
   "metadata": {},
   "source": [
    "### 3. Matrices vermenigvuldigen***"
   ]
  },
  {
   "cell_type": "markdown",
   "id": "4dba734d",
   "metadata": {},
   "source": [
    "Vermenigvuldig de onderstaande matrices:\n",
    "\n",
    "$$\n",
    "  \\begin{pmatrix}\n",
    "    1 & 2 & 3\\\\\n",
    "    4 & 5 & 6\n",
    "  \\end{pmatrix}\n",
    "  *\n",
    "    \\begin{pmatrix}\n",
    "    9 & 8\\\\\n",
    "    6 & 5\\\\\n",
    "    3 & 2\\\\\n",
    "  \\end{pmatrix}\n",
    "  =\n",
    "  ...\n",
    "$$"
   ]
  },
  {
   "cell_type": "code",
   "execution_count": 126,
   "id": "9895aaab",
   "metadata": {},
   "outputs": [],
   "source": [
    "# Implement both matrices:\n",
    "\n",
    "mat1 = {\"rows\": 2, \"cols\": 3, \"data\": [1, 2, 3, 4, 5, 6]}\n",
    "mat2 = {\"rows\": 3, \"cols\": 2, \"data\": [9, 8, 6, 5, 3, 2]}\n",
    "\n",
    "# Can we multiply them? Check if dimensions satisfy the (M by N) * (N by K) = (M by K) rule:\n",
    "\n",
    "mat1['cols'] == mat2['rows']\n",
    "\n",
    "# How do you multiply these matrices by hand?\n",
    "\n",
    "# using the multiplication rule ;-)\n",
    "\n",
    "# Now multiply the matrices in code:\n",
    "new_mat = []\n",
    "# create range up to n, with n being mat1 rows, this is used to loop over the rows of matrix 1\n",
    "for k in range(mat1['rows']):\n",
    "    # create range up to n, with n being mat2 cols, this is used to loop over the cols of matrix 2\n",
    "    for i in range(mat2['cols']):\n",
    "        # create mat2_items empty list\n",
    "        mat2_items = []\n",
    "        # create step function (of size mat2['cols]) to select the column items of mat2, one column at a time\n",
    "        for j in range(i, mat2['rows']*mat2['cols'], mat2['cols']):\n",
    "            # append them to the mat2_items list\n",
    "            mat2_items.append(mat2['data'][j])\n",
    "        # mat1 rows can be retrieved using list slicing\n",
    "        mat1_items = mat1['data'][k*mat1['cols']:(k+1)*mat1['cols']]\n",
    "        # create empty list to store items to sum\n",
    "        sum_items = []\n",
    "        # loop over all mat_items. multiply each mat elements with each other and append them to the sum_items list\n",
    "        for z, x in enumerate(mat1_items):\n",
    "            sum_items.append(x*mat2_items[z])\n",
    "        # sum the multiplied items together and store them in the new matrix\n",
    "        new_mat.append(sum(sum_items))\n",
    "# return the matrix\n",
    "new_mat\n",
    "\n",
    "        \n",
    "\n",
    "# In case you didn't: can you generalize this algorithm?\n",
    "\n",
    "if mat1['cols'] == mat2['rows']:\n",
    "    new_mat = []\n",
    "    # create range up to n, with n being mat1 rows, this is used to loop over the rows of matrix 1\n",
    "    for k in range(mat1['rows']):\n",
    "        # create range up to n, with n being mat2 cols, this is used to loop over the cols of matrix 2\n",
    "        for i in range(mat2['cols']):\n",
    "            # create mat2_items empty list\n",
    "            mat2_items = []\n",
    "            # create step function (of size mat2['cols]) to select the column items of mat2, one column at a time\n",
    "            for j in range(i, mat2['rows']*mat2['cols'], mat2['cols']):\n",
    "                # append them to the mat2_items list\n",
    "                mat2_items.append(mat2['data'][j])\n",
    "            # mat1 rows can be retrieved using list slicing\n",
    "            mat1_items = mat1['data'][k*mat1['cols']:(k+1)*mat1['cols']]\n",
    "            # create empty list to store items to sum\n",
    "            sum_items = []\n",
    "            # loop over all mat_items. multiply each mat elements with each other and append them to the sum_items list\n",
    "            for z, x in enumerate(mat1_items):\n",
    "                sum_items.append(x*mat2_items[z])\n",
    "            # sum the multiplied items together and store them in the new matrix\n",
    "            new_mat.append(sum(sum_items))\n",
    "    # return the matrix\n",
    "    new_mat\n",
    "else:\n",
    "    print(f\"Not able to perform matrix multiplication, matrices are not of the correct shape:\\nmat1 has shape: {mat1['rows']}x{mat1['cols']}, while mat2 has shape: {mat2['rows']}x{mat2['cols']}.\\nMat1 cols should be same size as mat2 rows.\")"
   ]
  },
  {
   "cell_type": "code",
   "execution_count": null,
   "metadata": {},
   "outputs": [],
   "source": []
  }
 ],
 "metadata": {
  "kernelspec": {
   "display_name": "Python 3 (ipykernel)",
   "language": "python",
   "name": "python3"
  },
  "language_info": {
   "codemirror_mode": {
    "name": "ipython",
    "version": 3
   },
   "file_extension": ".py",
   "mimetype": "text/x-python",
   "name": "python",
   "nbconvert_exporter": "python",
   "pygments_lexer": "ipython3",
   "version": "3.10.6"
  }
 },
 "nbformat": 4,
 "nbformat_minor": 5
}
