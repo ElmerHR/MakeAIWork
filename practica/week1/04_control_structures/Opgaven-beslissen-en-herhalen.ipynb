{
 "cells": [
  {
   "cell_type": "markdown",
   "id": "6e93d43b",
   "metadata": {},
   "source": [
    "# Beslissen en herhalen"
   ]
  },
  {
   "cell_type": "markdown",
   "id": "a4f6c97b",
   "metadata": {},
   "source": [
    "Om effectief te kunnen programmeren moet je:\n",
    "\n",
    "#### 1. Weten welke basisinstructies je tot je beschikking hebt\n",
    "Een mooi startpunt is [W3Schools over Python](https://www.w3schools.com/python/default.asp).\n",
    "\n",
    "\n",
    "#### 2. Weten hoe je de juiste instructies kunt vinden\n",
    "De zoektermen volgen uit je literate programming beschrijving en je pseudo code.\n",
    "\n",
    "### Let op!\n",
    "Het kan verleidelijk zijn om de OPLOSSING te googlen, zeker in het begin.\n",
    "\n",
    "##### Als je merkt dat je dit aan het doen bent, dan heb je de literate programming steps niet precies genoeg uitgewerkt.\n",
    "De opdracht is dan te groot en te complex."
   ]
  },
  {
   "cell_type": "markdown",
   "id": "92ed6127",
   "metadata": {},
   "source": [
    "## Basics: beslissen"
   ]
  },
  {
   "cell_type": "markdown",
   "id": "e0b00e53",
   "metadata": {},
   "source": [
    "Bestudeer [if else statements](https://www.w3schools.com/python/python_conditions.asp)\n",
    "\n",
    "(de voorbeelden zijn interactief)"
   ]
  },
  {
   "cell_type": "markdown",
   "id": "eb320abd",
   "metadata": {},
   "source": [
    "### 1. Vergelijken**"
   ]
  },
  {
   "cell_type": "markdown",
   "id": "f522b9d8",
   "metadata": {},
   "source": [
    "- Laat de gebruiker twee woorden invoeren\n",
    "- Geef aan welk woord het langs is\n",
    "- Neem ook het geval dat ze gelijk zijn mee\n",
    "- Print het resultaat\n",
    "\n",
    "Hint: je mag in dit geval [de functie len()](https://www.w3schools.com/python/python_strings.asp) gebruiken"
   ]
  },
  {
   "cell_type": "code",
   "execution_count": 61,
   "id": "0e2aedfa",
   "metadata": {},
   "outputs": [
    {
     "name": "stdin",
     "output_type": "stream",
     "text": [
      "Please enter a word:  appel\n",
      "Please enter another word:  giraffe\n"
     ]
    },
    {
     "name": "stdout",
     "output_type": "stream",
     "text": [
      "giraffe is longer than appel.\n"
     ]
    }
   ],
   "source": [
    "# 1. Formulate a solution\n",
    "\"\"\"\n",
    "Aks user to enter word 1\n",
    "Ask user to enter word 2\n",
    "\n",
    "If word 1 is larger or equal to word 2\n",
    "    If word 1 == word 2\n",
    "        Print \"Word 1 and 2 are of equal length\n",
    "    Else\n",
    "        Print \"Word 1 is longest\n",
    "Else\n",
    "    Print \"Word 2 is longest\n",
    "\"\"\"\n",
    "\n",
    "# 2. Implement the solution\n",
    "# Ask for two words\n",
    "word1 = input(\"Please enter a word: \")\n",
    "word2 = input(\"Please enter another word: \")\n",
    "\n",
    "# Find the longest word with if-else statements taking into account words being of equal length\n",
    "if len(word1) >= len(word2):\n",
    "    if len(word1) == len(word2):\n",
    "        print(f\"Both words [{word1}, {word2}] are of equal length.\")\n",
    "    else:\n",
    "        print(f\"{word1} is longer than {word2}.\")\n",
    "else:\n",
    "    print(f\"{word2} is longer than {word1}.\")\n"
   ]
  },
  {
   "cell_type": "markdown",
   "id": "0b5a8819",
   "metadata": {},
   "source": [
    "### 2. Categoriseren**"
   ]
  },
  {
   "cell_type": "markdown",
   "id": "49270585",
   "metadata": {},
   "source": [
    "- Vraag de gebruiker om een getal\n",
    "- Bepaal of dit getal even is\n",
    "- Print het resultaat\n",
    "\n",
    "Hint: je mag in dit geval de [operatoren '/' en '%'](https://www.w3schools.com/python/python_operators.asp) gebruiken"
   ]
  },
  {
   "cell_type": "code",
   "execution_count": 62,
   "id": "98a288c9",
   "metadata": {},
   "outputs": [
    {
     "name": "stdin",
     "output_type": "stream",
     "text": [
      "Please enter a number:  6\n"
     ]
    },
    {
     "name": "stdout",
     "output_type": "stream",
     "text": [
      "The number \"6\" is even\n"
     ]
    }
   ],
   "source": [
    "# 1. Formulate a solution\n",
    "\"\"\"\n",
    "Ask user for a number\n",
    "\n",
    "Check if the mod 2 of the number equals 0 (no remainder means divisible by 2 and thus even number)\n",
    "\n",
    "Print if the number is even or odd based on the above result\n",
    "\n",
    "\"\"\"\n",
    "\n",
    "# 2. Implement the solution\n",
    "# Ask for a number\n",
    "num = int(input(\"Please enter a number: \"))\n",
    "\n",
    "# if modulo 2 of the number equals 0 print even else odd\n",
    "if num % 2 == 0:\n",
    "    print(f'The number \"{num}\" is even')\n",
    "else:\n",
    "    print(f'The number \"{num}\" is odd')\n"
   ]
  },
  {
   "cell_type": "markdown",
   "id": "2be34655",
   "metadata": {},
   "source": [
    "## Basics: herhalen"
   ]
  },
  {
   "cell_type": "markdown",
   "id": "8491ff0e",
   "metadata": {},
   "source": [
    "Bestudeer [for loops](https://www.w3schools.com/python/python_for_loops.asp)\n",
    "\n",
    "Bestudeer [while loops](https://www.w3schools.com/python/python_while_loops.asp)\n",
    "\n",
    "(de voorbeelden zijn interactief)"
   ]
  },
  {
   "cell_type": "markdown",
   "id": "af980848",
   "metadata": {},
   "source": [
    "### 1. Printen*"
   ]
  },
  {
   "cell_type": "markdown",
   "id": "120a2dd8",
   "metadata": {},
   "source": [
    "- Print je naam 23 keer uit\n",
    "\n",
    "Extra: kun je het er ook een nummer voor zetten?\n",
    "\n",
    "    1. Ruud\n",
    "    2. Ruud\n",
    "    3. Ruud\n",
    "\n",
    "    ...\n",
    "\n",
    "Hint: kijk nog eens naar de les van Jeroen over strings"
   ]
  },
  {
   "cell_type": "code",
   "execution_count": 63,
   "id": "4d8cb9fb",
   "metadata": {},
   "outputs": [
    {
     "name": "stdout",
     "output_type": "stream",
     "text": [
      "1. Elmer\n",
      "2. Elmer\n",
      "3. Elmer\n",
      "4. Elmer\n",
      "5. Elmer\n",
      "6. Elmer\n",
      "7. Elmer\n",
      "8. Elmer\n",
      "9. Elmer\n",
      "10. Elmer\n",
      "11. Elmer\n",
      "12. Elmer\n",
      "13. Elmer\n",
      "14. Elmer\n",
      "15. Elmer\n",
      "16. Elmer\n",
      "17. Elmer\n",
      "18. Elmer\n",
      "19. Elmer\n",
      "20. Elmer\n",
      "21. Elmer\n",
      "22. Elmer\n",
      "23. Elmer\n"
     ]
    }
   ],
   "source": [
    "# 1. Formulate a solution\n",
    "\"\"\"\n",
    "iterate over a range of 23 numbers\n",
    "    print own name with number at the front\n",
    "\"\"\"\n",
    "\n",
    "# 2. Implement the solution\n",
    "# iterate over a range of 23 integers and print name with index in front\n",
    "for idx in range(0,23):\n",
    "    print(f\"{idx+1}. Elmer\")"
   ]
  },
  {
   "cell_type": "markdown",
   "id": "379ec167",
   "metadata": {},
   "source": [
    "### 2. Optellen*"
   ]
  },
  {
   "cell_type": "markdown",
   "id": "d21d8212",
   "metadata": {},
   "source": [
    "- Tel de getallen 0, 1, 2, ... t/m 100 op\n",
    "- Print het resultaat"
   ]
  },
  {
   "cell_type": "code",
   "execution_count": 64,
   "id": "92ac6462",
   "metadata": {},
   "outputs": [
    {
     "name": "stdout",
     "output_type": "stream",
     "text": [
      "The sum of 0 to 100 is 5050.\n"
     ]
    }
   ],
   "source": [
    "# 1. Formulate a solution\n",
    "\n",
    "\"\"\"\n",
    "    Define a sum variable\n",
    "    Iterate over range of 0 to 100\n",
    "        add idx to sum variable\n",
    "    Print sum\n",
    "\"\"\"\n",
    "\n",
    "# 2. Implement the solution\n",
    "sum_total = 0\n",
    "\n",
    "# iterate over a range from 0 to 100\n",
    "for idx in range(0, 101):\n",
    "    sum_total += idx\n",
    "print(f\"The sum of 0 to 100 is {sum_total}.\")"
   ]
  },
  {
   "cell_type": "markdown",
   "id": "9d394ec4",
   "metadata": {},
   "source": [
    "### 3. Print een specifieke som**"
   ]
  },
  {
   "cell_type": "markdown",
   "id": "894c9c7e",
   "metadata": {},
   "source": [
    "- Print de som van een getal en het vorige getal\n",
    "- Doe dit van nul tot aan een getal dat de gebruiker invoert"
   ]
  },
  {
   "cell_type": "code",
   "execution_count": 65,
   "id": "d6274b0a",
   "metadata": {},
   "outputs": [
    {
     "name": "stdin",
     "output_type": "stream",
     "text": [
      "Please enter a number:  5\n"
     ]
    },
    {
     "name": "stdout",
     "output_type": "stream",
     "text": [
      "[0, 1, 3, 5, 7, 9]\n"
     ]
    }
   ],
   "source": [
    "# 1. Formulate a solution\n",
    "\"\"\"\n",
    "Ask user for a number\n",
    "\n",
    "Calculate the series for a number plus it's previous number in a range from 0 to the chosen number\n",
    "\"\"\"\n",
    "\n",
    "# 2. Implement the solution\n",
    "# Ask user for a number\n",
    "num = int(input(\"Please enter a number: \"))\n",
    "\n",
    "# define empty list\n",
    "sum_series = []\n",
    "# iterate over range 0 to num (incl)\n",
    "for idx in range(0, num+1):\n",
    "#   if index == 0, nothing to add from previous number, so just add to list\n",
    "    if idx == 0:\n",
    "        sum_series.append(idx)\n",
    "#   else add sum of this number with previous number\n",
    "    else:\n",
    "        sum_series.append(idx+idx-1)\n",
    "print(sum_series)"
   ]
  },
  {
   "cell_type": "markdown",
   "id": "9e30cf7d",
   "metadata": {},
   "source": [
    "## Gecombineerd"
   ]
  },
  {
   "cell_type": "markdown",
   "id": "d728ef64",
   "metadata": {},
   "source": [
    "### 1. Print alle medeklinkers van een woord of zin***"
   ]
  },
  {
   "cell_type": "markdown",
   "id": "0cfcd436",
   "metadata": {},
   "source": [
    "- Vraag de gebruiker om een woord of zin in te voeren\n",
    "- Print vervolgens alle medeklinkers\n",
    "- Als de invoer een zin is, print dan ook alle spaties en leestekens"
   ]
  },
  {
   "cell_type": "code",
   "execution_count": 66,
   "id": "0112311d",
   "metadata": {},
   "outputs": [
    {
     "name": "stdin",
     "output_type": "stream",
     "text": [
      "Please enter a word:  appeltaart\n"
     ]
    },
    {
     "name": "stdout",
     "output_type": "stream",
     "text": [
      "ppltrt\n"
     ]
    },
    {
     "name": "stdin",
     "output_type": "stream",
     "text": [
      "Please enter a sentence:  Appeltaart is heerlijk!!!\n"
     ]
    },
    {
     "name": "stdout",
     "output_type": "stream",
     "text": [
      "Appltrt s hrljk!!!\n"
     ]
    }
   ],
   "source": [
    "# 1. Start simple: take the word \"simpel\"\n",
    "\n",
    "# 2. Explain your solution in words only\n",
    "\"\"\"\n",
    "Iterate over all characters in a word and check if it contains a vowel.\n",
    "If it doesn't, add the char to a newly defined string\n",
    "\"\"\" \n",
    "\n",
    "# 3. Write down your solution in pseudo code\n",
    "\"\"\"\n",
    "Ask user for a word\n",
    "\n",
    "Define an empty string\n",
    "\n",
    "Iterate over all chars in the word\n",
    "\n",
    "    If char is not in a list containing all 5 vowels then add the char to the new string\n",
    "\n",
    "Finally print the new string\n",
    "\"\"\"\n",
    "\n",
    "# 4. Implement your pseudo code in Python\n",
    "word = input(\"Please enter a word: \")\n",
    "\n",
    "condensed_word = \"\"\n",
    "for char in word:\n",
    "    if char not in ['a', 'e', 'o', 'u', 'i']:\n",
    "        condensed_word += char\n",
    "print(condensed_word)\n",
    "\n",
    "# 5. Extend your solution to the general case\n",
    "sentence = input(\"Please enter a sentence: \")\n",
    "\n",
    "condensed_sentence = \"\"\n",
    "for char in sentence:\n",
    "    if char not in ['a', 'e', 'o', 'u', 'i']:\n",
    "        condensed_sentence += char\n",
    "print(condensed_sentence)"
   ]
  },
  {
   "cell_type": "markdown",
   "id": "ed2dd7e2",
   "metadata": {},
   "source": [
    "### 2. Print een diamant vorm***"
   ]
  },
  {
   "cell_type": "markdown",
   "id": "d8438e85",
   "metadata": {},
   "source": [
    "- Vraag de gebruiker om een hoogte\n",
    "- Print vervolgens een diamant van die hoogte\n",
    "\n",
    "Hint: zijn er hoogtes waarvoor dit niet lukt? Zo ja, laat de gebruiker dit dan weten."
   ]
  },
  {
   "cell_type": "code",
   "execution_count": 70,
   "id": "8c5501e3",
   "metadata": {},
   "outputs": [
    {
     "name": "stdin",
     "output_type": "stream",
     "text": [
      "Please enter a number:  23\n"
     ]
    },
    {
     "name": "stdout",
     "output_type": "stream",
     "text": [
      "            *            \n",
      "           ***           \n",
      "          *****          \n",
      "         *******         \n",
      "        *********        \n",
      "       ***********       \n",
      "      *************      \n",
      "     ***************     \n",
      "    *****************    \n",
      "   *******************   \n",
      "  *********************  \n",
      " *********************** \n",
      "  *********************  \n",
      "   *******************   \n",
      "    *****************    \n",
      "     ***************     \n",
      "      *************      \n",
      "       ***********       \n",
      "        *********        \n",
      "         *******         \n",
      "          *****          \n",
      "           ***           \n",
      "            *            \n"
     ]
    }
   ],
   "source": [
    "# An example with height 7\n",
    "\n",
    "#    *\n",
    "#   ***\n",
    "#  *****\n",
    "# *******\n",
    "#  *****\n",
    "#   ***\n",
    "#    *\n",
    "\n",
    "# 1. Start simple: take the example above\n",
    "\n",
    "# 2. Explain your solution in words only\n",
    "\"\"\"\n",
    "With the entered number 7 given, create a list of numbers up to the number given with step size 2.\n",
    "Reverse that list and remove the first entry\n",
    "Add the two lists together to generate a list with the required number of stars needed per line to create the diamond\n",
    "The line to print is: 7 minus number of stars divided by 2 + number of stars + 7 minus number of stars divided by 2\n",
    "Do this for every number in the range to get the diamond\n",
    "\"\"\"\n",
    "\n",
    "# 3. Write down your solution in pseudo code\n",
    "\"\"\"\n",
    "Ask for number\n",
    "\n",
    "If the number is odd:\n",
    "    \n",
    "    Create a range up to the number entered with step size 2\n",
    "    \n",
    "    Reverse that range and save it to a new variable\n",
    "    \n",
    "    Remove the first entry of that newly created reversed range\n",
    "    \n",
    "    Attach the two lists together.\n",
    "    \n",
    "    Iterate over all numbers in the list\n",
    "        \n",
    "        print the stars and add (number entered - stars / 2 ) spaces in the front and back\n",
    "    \n",
    "Else:\n",
    "    \n",
    "    Ask the user to enter an odd number to be able to create the diamond\n",
    "\"\"\"\n",
    "\n",
    "# 4. Implement your pseudo code in Python\n",
    "# Ask user to enter a number\n",
    "num = int(input(\"Please enter a number: \"))\n",
    "\n",
    "# if number is odd, continue with building the diamond\n",
    "if num % 2 != 0:\n",
    "    # create a range up to the number entered with steps of 2 [1, 3, 5, 7, etc.]\n",
    "    number_series = [x for x in range(1, num+1, 2)]\n",
    "    # reverse the range to get [7, 5, 3, 1]\n",
    "    reverse_range = number_series[::-1]\n",
    "    # attach them together and get rid of the double entered number --> 7 in this example\n",
    "    number_series += reverse_range[1:]\n",
    "\n",
    "    for idx in number_series:\n",
    "        print(int((num-idx)/2)*\" \", idx*\"*\", int((num-idx)/2)*\" \")\n",
    "        \n",
    "# Show a message to ask the user to enter an odd number\n",
    "else:\n",
    "    print(\"Please enter an odd number\")\n",
    "\n",
    "# 5. Extend your solution to the general case\n",
    "# General case already implemented above"
   ]
  }
 ],
 "metadata": {
  "kernelspec": {
   "display_name": "Python 3 (ipykernel)",
   "language": "python",
   "name": "python3"
  },
  "language_info": {
   "codemirror_mode": {
    "name": "ipython",
    "version": 3
   },
   "file_extension": ".py",
   "mimetype": "text/x-python",
   "name": "python",
   "nbconvert_exporter": "python",
   "pygments_lexer": "ipython3",
   "version": "3.10.8"
  }
 },
 "nbformat": 4,
 "nbformat_minor": 5
}
