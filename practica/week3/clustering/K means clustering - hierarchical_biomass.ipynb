{
 "cells": [
  {
   "cell_type": "markdown",
   "id": "dea48ef3",
   "metadata": {},
   "source": [
    "Stel, een klant komt naar je toe en vraagt of je overeenkomsten kan vinden tussen klanten. Deze overeenkomsten moeten alle klanten groeperen om zo de groepen beter te kunnen benaderen met bv. gepersonaliseerde reclame of aanbiedingen.\n",
    "\n",
    "Één mogelijke manier is door gebruik te maken van een clustering algoritme. Omdat de dataset klein is en verklaarbaarheid van de data een grote rol speelt, maken we gebruik van hiërarchische clustering analyse.\n",
    "\n",
    "Laten we beginnen met het importeren van de dataset."
   ]
  },
  {
   "cell_type": "code",
   "execution_count": 9,
   "id": "d76cc054",
   "metadata": {},
   "outputs": [],
   "source": [
    "import pandas as pd\n",
    "\n",
    "# Substitute the path_to_file content by the path to your shopping-data.csv file \n",
    "# path_to_file = 'shopping-data.csv'\n",
    "path_to_file = 'Dataset_JRC_-_biomass_data_data_data_uses_and_flows.csv'\n",
    "biomass_data = pd.read_csv(path_to_file)"
   ]
  },
  {
   "cell_type": "code",
   "execution_count": 10,
   "id": "8104ca47",
   "metadata": {},
   "outputs": [
    {
     "data": {
      "text/plain": [
       "(162756, 17)"
      ]
     },
     "execution_count": 10,
     "metadata": {},
     "output_type": "execute_result"
    }
   ],
   "source": [
    "biomass_data.shape"
   ]
  },
  {
   "cell_type": "code",
   "execution_count": 11,
   "id": "b02c54bd",
   "metadata": {},
   "outputs": [
    {
     "data": {
      "text/plain": [
       "Index(['Geopolitical Entity', 'Geopolitical Entity (Id)', 'Year', 'Sector',\n",
       "       'Level_Sankey', 'Level_Sankey (Id)', 'Lifecycle Step',\n",
       "       'Lifecycle Step (Id)', 'Source', 'Source (Id)', 'Target', 'Target (Id)',\n",
       "       'Flow', 'Flow (Id)', 'Unit', 'Unit (Id)', 'Value (THOUSAND TONS)'],\n",
       "      dtype='object')"
      ]
     },
     "execution_count": 11,
     "metadata": {},
     "output_type": "execute_result"
    }
   ],
   "source": [
    "biomass_data.columns"
   ]
  },
  {
   "cell_type": "markdown",
   "id": "5a4db76b",
   "metadata": {},
   "source": [
    "Laten we even wat verder induiken op de \"spending habits\" van de klanten door de spending score in een histogram te plaatsen."
   ]
  },
  {
   "cell_type": "code",
   "execution_count": 12,
   "id": "ac4d9d33",
   "metadata": {},
   "outputs": [
    {
     "data": {
      "text/html": [
       "<div>\n",
       "<style scoped>\n",
       "    .dataframe tbody tr th:only-of-type {\n",
       "        vertical-align: middle;\n",
       "    }\n",
       "\n",
       "    .dataframe tbody tr th {\n",
       "        vertical-align: top;\n",
       "    }\n",
       "\n",
       "    .dataframe thead th {\n",
       "        text-align: right;\n",
       "    }\n",
       "</style>\n",
       "<table border=\"1\" class=\"dataframe\">\n",
       "  <thead>\n",
       "    <tr style=\"text-align: right;\">\n",
       "      <th></th>\n",
       "      <th>count</th>\n",
       "      <th>mean</th>\n",
       "      <th>std</th>\n",
       "      <th>min</th>\n",
       "      <th>25%</th>\n",
       "      <th>50%</th>\n",
       "      <th>75%</th>\n",
       "      <th>max</th>\n",
       "    </tr>\n",
       "  </thead>\n",
       "  <tbody>\n",
       "    <tr>\n",
       "      <th>Year</th>\n",
       "      <td>162756.0</td>\n",
       "      <td>2013.500000</td>\n",
       "      <td>3.452063</td>\n",
       "      <td>2008.0</td>\n",
       "      <td>2010.75</td>\n",
       "      <td>2013.500000</td>\n",
       "      <td>2016.25</td>\n",
       "      <td>2019.000000</td>\n",
       "    </tr>\n",
       "    <tr>\n",
       "      <th>Value (THOUSAND TONS)</th>\n",
       "      <td>162756.0</td>\n",
       "      <td>3546.601523</td>\n",
       "      <td>23822.060930</td>\n",
       "      <td>0.0</td>\n",
       "      <td>0.00</td>\n",
       "      <td>18.691128</td>\n",
       "      <td>717.00</td>\n",
       "      <td>952506.070339</td>\n",
       "    </tr>\n",
       "  </tbody>\n",
       "</table>\n",
       "</div>"
      ],
      "text/plain": [
       "                          count         mean           std     min      25%  \\\n",
       "Year                   162756.0  2013.500000      3.452063  2008.0  2010.75   \n",
       "Value (THOUSAND TONS)  162756.0  3546.601523  23822.060930     0.0     0.00   \n",
       "\n",
       "                               50%      75%            max  \n",
       "Year                   2013.500000  2016.25    2019.000000  \n",
       "Value (THOUSAND TONS)    18.691128   717.00  952506.070339  "
      ]
     },
     "execution_count": 12,
     "metadata": {},
     "output_type": "execute_result"
    }
   ],
   "source": [
    "# transpose() transposes the table, making it easier for us to compare values\n",
    "biomass_data.describe().transpose()"
   ]
  },
  {
   "cell_type": "code",
   "execution_count": 13,
   "id": "86cde312",
   "metadata": {},
   "outputs": [
    {
     "name": "stdout",
     "output_type": "stream",
     "text": [
      "<class 'pandas.core.frame.DataFrame'>\n",
      "RangeIndex: 162756 entries, 0 to 162755\n",
      "Data columns (total 17 columns):\n",
      " #   Column                    Non-Null Count   Dtype  \n",
      "---  ------                    --------------   -----  \n",
      " 0   Geopolitical Entity       162756 non-null  object \n",
      " 1   Geopolitical Entity (Id)  162756 non-null  object \n",
      " 2   Year                      162756 non-null  int64  \n",
      " 3   Sector                    162756 non-null  object \n",
      " 4   Level_Sankey              162756 non-null  object \n",
      " 5   Level_Sankey (Id)         162756 non-null  object \n",
      " 6   Lifecycle Step            162756 non-null  object \n",
      " 7   Lifecycle Step (Id)       162756 non-null  object \n",
      " 8   Source                    162756 non-null  object \n",
      " 9   Source (Id)               162756 non-null  object \n",
      " 10  Target                    162756 non-null  object \n",
      " 11  Target (Id)               162756 non-null  object \n",
      " 12  Flow                      162756 non-null  object \n",
      " 13  Flow (Id)                 162756 non-null  object \n",
      " 14  Unit                      162756 non-null  object \n",
      " 15  Unit (Id)                 162756 non-null  object \n",
      " 16  Value (THOUSAND TONS)     162756 non-null  float64\n",
      "dtypes: float64(1), int64(1), object(15)\n",
      "memory usage: 21.1+ MB\n"
     ]
    }
   ],
   "source": [
    "biomass_data.info()"
   ]
  },
  {
   "cell_type": "code",
   "execution_count": 14,
   "id": "bb83bffc",
   "metadata": {},
   "outputs": [
    {
     "data": {
      "text/html": [
       "<div>\n",
       "<style scoped>\n",
       "    .dataframe tbody tr th:only-of-type {\n",
       "        vertical-align: middle;\n",
       "    }\n",
       "\n",
       "    .dataframe tbody tr th {\n",
       "        vertical-align: top;\n",
       "    }\n",
       "\n",
       "    .dataframe thead th {\n",
       "        text-align: right;\n",
       "    }\n",
       "</style>\n",
       "<table border=\"1\" class=\"dataframe\">\n",
       "  <thead>\n",
       "    <tr style=\"text-align: right;\">\n",
       "      <th></th>\n",
       "      <th>Geopolitical Entity</th>\n",
       "      <th>Geopolitical Entity (Id)</th>\n",
       "      <th>Year</th>\n",
       "      <th>Sector</th>\n",
       "      <th>Level_Sankey</th>\n",
       "      <th>Level_Sankey (Id)</th>\n",
       "      <th>Lifecycle Step</th>\n",
       "      <th>Lifecycle Step (Id)</th>\n",
       "      <th>Source</th>\n",
       "      <th>Source (Id)</th>\n",
       "      <th>Target</th>\n",
       "      <th>Target (Id)</th>\n",
       "      <th>Flow</th>\n",
       "      <th>Flow (Id)</th>\n",
       "      <th>Unit</th>\n",
       "      <th>Unit (Id)</th>\n",
       "      <th>Value (THOUSAND TONS)</th>\n",
       "    </tr>\n",
       "  </thead>\n",
       "  <tbody>\n",
       "    <tr>\n",
       "      <th>0</th>\n",
       "      <td>Austria</td>\n",
       "      <td>AT</td>\n",
       "      <td>2008</td>\n",
       "      <td>Agriculture</td>\n",
       "      <td>L2 - Biomass by type</td>\n",
       "      <td>L2</td>\n",
       "      <td>Animal based food</td>\n",
       "      <td>Animal based food</td>\n",
       "      <td>Feed &amp; bedding</td>\n",
       "      <td>A9</td>\n",
       "      <td>Animal-based food</td>\n",
       "      <td>A13</td>\n",
       "      <td>Agriculture biomass</td>\n",
       "      <td>AGRI_AGGR</td>\n",
       "      <td>1000 T of dry matter (gross trade)</td>\n",
       "      <td>KT_DRY_GROSS</td>\n",
       "      <td>546.633266</td>\n",
       "    </tr>\n",
       "    <tr>\n",
       "      <th>1</th>\n",
       "      <td>Austria</td>\n",
       "      <td>AT</td>\n",
       "      <td>2008</td>\n",
       "      <td>Agriculture</td>\n",
       "      <td>L2 - Biomass by type</td>\n",
       "      <td>L2</td>\n",
       "      <td>Animal based food</td>\n",
       "      <td>Animal based food</td>\n",
       "      <td>Feed &amp; bedding</td>\n",
       "      <td>A9</td>\n",
       "      <td>Animal-based food</td>\n",
       "      <td>A13</td>\n",
       "      <td>Agriculture biomass</td>\n",
       "      <td>AGRI_AGGR</td>\n",
       "      <td>1000 T of dry matter (net trade)</td>\n",
       "      <td>KT_DRY_NET</td>\n",
       "      <td>546.633266</td>\n",
       "    </tr>\n",
       "    <tr>\n",
       "      <th>2</th>\n",
       "      <td>Austria</td>\n",
       "      <td>AT</td>\n",
       "      <td>2008</td>\n",
       "      <td>Agriculture</td>\n",
       "      <td>L2 - Biomass by type</td>\n",
       "      <td>L2</td>\n",
       "      <td>Exports</td>\n",
       "      <td>Exports</td>\n",
       "      <td>Biomass supply</td>\n",
       "      <td>A4</td>\n",
       "      <td>Exports</td>\n",
       "      <td>A14</td>\n",
       "      <td>Agriculture biomass</td>\n",
       "      <td>AGRI_AGGR</td>\n",
       "      <td>1000 T of dry matter (gross trade)</td>\n",
       "      <td>KT_DRY_GROSS</td>\n",
       "      <td>1236.146648</td>\n",
       "    </tr>\n",
       "    <tr>\n",
       "      <th>3</th>\n",
       "      <td>Austria</td>\n",
       "      <td>AT</td>\n",
       "      <td>2008</td>\n",
       "      <td>Agriculture</td>\n",
       "      <td>L2 - Biomass by type</td>\n",
       "      <td>L2</td>\n",
       "      <td>Exports</td>\n",
       "      <td>Exports</td>\n",
       "      <td>Biomass supply</td>\n",
       "      <td>A4</td>\n",
       "      <td>Exports</td>\n",
       "      <td>A14</td>\n",
       "      <td>Agriculture biomass</td>\n",
       "      <td>AGRI_AGGR</td>\n",
       "      <td>1000 T of dry matter (net trade)</td>\n",
       "      <td>KT_DRY_NET</td>\n",
       "      <td>0.000000</td>\n",
       "    </tr>\n",
       "    <tr>\n",
       "      <th>4</th>\n",
       "      <td>Austria</td>\n",
       "      <td>AT</td>\n",
       "      <td>2008</td>\n",
       "      <td>Agriculture</td>\n",
       "      <td>L2 - Biomass by type</td>\n",
       "      <td>L2</td>\n",
       "      <td>Exports</td>\n",
       "      <td>Exports</td>\n",
       "      <td>Feed &amp; bedding</td>\n",
       "      <td>A9</td>\n",
       "      <td>Exports</td>\n",
       "      <td>A14</td>\n",
       "      <td>Agriculture biomass</td>\n",
       "      <td>AGRI_AGGR</td>\n",
       "      <td>1000 T of dry matter (gross trade)</td>\n",
       "      <td>KT_DRY_GROSS</td>\n",
       "      <td>4469.214987</td>\n",
       "    </tr>\n",
       "  </tbody>\n",
       "</table>\n",
       "</div>"
      ],
      "text/plain": [
       "  Geopolitical Entity Geopolitical Entity (Id)  Year       Sector  \\\n",
       "0             Austria                       AT  2008  Agriculture   \n",
       "1             Austria                       AT  2008  Agriculture   \n",
       "2             Austria                       AT  2008  Agriculture   \n",
       "3             Austria                       AT  2008  Agriculture   \n",
       "4             Austria                       AT  2008  Agriculture   \n",
       "\n",
       "           Level_Sankey Level_Sankey (Id)     Lifecycle Step  \\\n",
       "0  L2 - Biomass by type                L2  Animal based food   \n",
       "1  L2 - Biomass by type                L2  Animal based food   \n",
       "2  L2 - Biomass by type                L2            Exports   \n",
       "3  L2 - Biomass by type                L2            Exports   \n",
       "4  L2 - Biomass by type                L2            Exports   \n",
       "\n",
       "  Lifecycle Step (Id)          Source Source (Id)             Target  \\\n",
       "0   Animal based food  Feed & bedding          A9  Animal-based food   \n",
       "1   Animal based food  Feed & bedding          A9  Animal-based food   \n",
       "2             Exports  Biomass supply          A4            Exports   \n",
       "3             Exports  Biomass supply          A4            Exports   \n",
       "4             Exports  Feed & bedding          A9            Exports   \n",
       "\n",
       "  Target (Id)                 Flow  Flow (Id)  \\\n",
       "0         A13  Agriculture biomass  AGRI_AGGR   \n",
       "1         A13  Agriculture biomass  AGRI_AGGR   \n",
       "2         A14  Agriculture biomass  AGRI_AGGR   \n",
       "3         A14  Agriculture biomass  AGRI_AGGR   \n",
       "4         A14  Agriculture biomass  AGRI_AGGR   \n",
       "\n",
       "                                 Unit     Unit (Id)  Value (THOUSAND TONS)  \n",
       "0  1000 T of dry matter (gross trade)  KT_DRY_GROSS             546.633266  \n",
       "1    1000 T of dry matter (net trade)    KT_DRY_NET             546.633266  \n",
       "2  1000 T of dry matter (gross trade)  KT_DRY_GROSS            1236.146648  \n",
       "3    1000 T of dry matter (net trade)    KT_DRY_NET               0.000000  \n",
       "4  1000 T of dry matter (gross trade)  KT_DRY_GROSS            4469.214987  "
      ]
     },
     "execution_count": 14,
     "metadata": {},
     "output_type": "execute_result"
    }
   ],
   "source": [
    "biomass_data.head() "
   ]
  },
  {
   "cell_type": "code",
   "execution_count": 33,
   "id": "02305ef3",
   "metadata": {},
   "outputs": [
    {
     "name": "stderr",
     "output_type": "stream",
     "text": [
      "/tmp/ipykernel_642/1053366239.py:1: FutureWarning: The default value of numeric_only in DataFrameGroupBy.sum is deprecated. In a future version, numeric_only will default to False. Either specify numeric_only or select only columns which should be valid for the function.\n",
      "  biomass_data[['Geopolitical Entity (Id)', 'Geopolitical Entity', 'Year', 'Sector', 'Value (THOUSAND TONS)']].groupby(by=['Geopolitical Entity (Id)', 'Year', 'Sector']).sum().sort_values(by='Value (THOUSAND TONS)')\n"
     ]
    },
    {
     "data": {
      "text/html": [
       "<div>\n",
       "<style scoped>\n",
       "    .dataframe tbody tr th:only-of-type {\n",
       "        vertical-align: middle;\n",
       "    }\n",
       "\n",
       "    .dataframe tbody tr th {\n",
       "        vertical-align: top;\n",
       "    }\n",
       "\n",
       "    .dataframe thead th {\n",
       "        text-align: right;\n",
       "    }\n",
       "</style>\n",
       "<table border=\"1\" class=\"dataframe\">\n",
       "  <thead>\n",
       "    <tr style=\"text-align: right;\">\n",
       "      <th></th>\n",
       "      <th></th>\n",
       "      <th></th>\n",
       "      <th>Value (THOUSAND TONS)</th>\n",
       "    </tr>\n",
       "    <tr>\n",
       "      <th>Geopolitical Entity (Id)</th>\n",
       "      <th>Year</th>\n",
       "      <th>Sector</th>\n",
       "      <th></th>\n",
       "    </tr>\n",
       "  </thead>\n",
       "  <tbody>\n",
       "    <tr>\n",
       "      <th>HR</th>\n",
       "      <th>2019</th>\n",
       "      <th>Forestry</th>\n",
       "      <td>0.000000e+00</td>\n",
       "    </tr>\n",
       "    <tr>\n",
       "      <th rowspan=\"4\" valign=\"top\">FI</th>\n",
       "      <th rowspan=\"2\" valign=\"top\">2019</th>\n",
       "      <th>Forestry</th>\n",
       "      <td>0.000000e+00</td>\n",
       "    </tr>\n",
       "    <tr>\n",
       "      <th>Fisheries</th>\n",
       "      <td>0.000000e+00</td>\n",
       "    </tr>\n",
       "    <tr>\n",
       "      <th rowspan=\"2\" valign=\"top\">2018</th>\n",
       "      <th>Forestry</th>\n",
       "      <td>0.000000e+00</td>\n",
       "    </tr>\n",
       "    <tr>\n",
       "      <th>Fisheries</th>\n",
       "      <td>0.000000e+00</td>\n",
       "    </tr>\n",
       "    <tr>\n",
       "      <th>...</th>\n",
       "      <th>...</th>\n",
       "      <th>...</th>\n",
       "      <td>...</td>\n",
       "    </tr>\n",
       "    <tr>\n",
       "      <th rowspan=\"5\" valign=\"top\">EU27</th>\n",
       "      <th>2016</th>\n",
       "      <th>Agriculture</th>\n",
       "      <td>1.042083e+07</td>\n",
       "    </tr>\n",
       "    <tr>\n",
       "      <th>2018</th>\n",
       "      <th>Agriculture</th>\n",
       "      <td>1.053840e+07</td>\n",
       "    </tr>\n",
       "    <tr>\n",
       "      <th>2014</th>\n",
       "      <th>Agriculture</th>\n",
       "      <td>1.058225e+07</td>\n",
       "    </tr>\n",
       "    <tr>\n",
       "      <th>2017</th>\n",
       "      <th>Agriculture</th>\n",
       "      <td>1.078545e+07</td>\n",
       "    </tr>\n",
       "    <tr>\n",
       "      <th>2019</th>\n",
       "      <th>Agriculture</th>\n",
       "      <td>1.088741e+07</td>\n",
       "    </tr>\n",
       "  </tbody>\n",
       "</table>\n",
       "<p>1344 rows × 1 columns</p>\n",
       "</div>"
      ],
      "text/plain": [
       "                                           Value (THOUSAND TONS)\n",
       "Geopolitical Entity (Id) Year Sector                            \n",
       "HR                       2019 Forestry              0.000000e+00\n",
       "FI                       2019 Forestry              0.000000e+00\n",
       "                              Fisheries             0.000000e+00\n",
       "                         2018 Forestry              0.000000e+00\n",
       "                              Fisheries             0.000000e+00\n",
       "...                                                          ...\n",
       "EU27                     2016 Agriculture           1.042083e+07\n",
       "                         2018 Agriculture           1.053840e+07\n",
       "                         2014 Agriculture           1.058225e+07\n",
       "                         2017 Agriculture           1.078545e+07\n",
       "                         2019 Agriculture           1.088741e+07\n",
       "\n",
       "[1344 rows x 1 columns]"
      ]
     },
     "execution_count": 33,
     "metadata": {},
     "output_type": "execute_result"
    }
   ],
   "source": [
    "biomass_data[['Geopolitical Entity (Id)', 'Geopolitical Entity', 'Year', 'Sector', 'Value (THOUSAND TONS)']].groupby(by=['Geopolitical Entity (Id)', 'Year', 'Sector']).sum().sort_values(by='Value (THOUSAND TONS)')"
   ]
  },
  {
   "cell_type": "code",
   "execution_count": 34,
   "id": "f028d0e9",
   "metadata": {},
   "outputs": [
    {
     "name": "stderr",
     "output_type": "stream",
     "text": [
      "/tmp/ipykernel_642/1475053772.py:1: FutureWarning: The default value of numeric_only in DataFrameGroupBy.sum is deprecated. In a future version, numeric_only will default to False. Either specify numeric_only or select only columns which should be valid for the function.\n",
      "  biomass_data_2018_agriculture_net_trade = biomass_data[(biomass_data['Year'] == 2018) & (biomass_data['Sector'] == 'Agriculture') & (biomass_data['Unit (Id)'] == 'KT_DRY_NET') & (~biomass_data['Geopolitical Entity'].str.startswith('European'))].groupby(by=['Geopolitical Entity', 'Geopolitical Entity (Id)', 'Year', 'Sector']).sum().reset_index().sort_values(by='Value (THOUSAND TONS)', ascending=False)\n"
     ]
    }
   ],
   "source": [
    "biomass_data_2018_agriculture_net_trade = biomass_data[(biomass_data['Year'] == 2018) & (biomass_data['Sector'] == 'Agriculture') & (biomass_data['Unit (Id)'] == 'KT_DRY_NET') & (~biomass_data['Geopolitical Entity'].str.startswith('European'))].groupby(by=['Geopolitical Entity', 'Geopolitical Entity (Id)', 'Year', 'Sector']).sum().reset_index().sort_values(by='Value (THOUSAND TONS)', ascending=False)\n",
    "biomass_clustering = biomass_data_2018_agriculture_net_trade[['Geopolitical Entity (Id)', 'Value (THOUSAND TONS)']].copy()"
   ]
  },
  {
   "cell_type": "code",
   "execution_count": 36,
   "id": "8df43f57",
   "metadata": {},
   "outputs": [],
   "source": [
    "# The _oh means one-hot\n",
    "biomass_data_oh = pd.get_dummies(biomass_clustering)\n",
    "# Display the one-hot encoded dataframe\n",
    "biomass_data_oh.columns\n",
    "biomass_clustering = pd.concat([biomass_clustering['Geopolitical Entity (Id)'], biomass_data_oh], axis=1)"
   ]
  },
  {
   "cell_type": "markdown",
   "id": "771533b0",
   "metadata": {},
   "source": [
    "Het voordeel van one-hot-encoding is het versimpelen van het weergeven van kolom waardes. Het is makkelijk te lezen en te begrijpen. Het nadeel is dat er nu 8 EXTRA kolommen aan zijn gemaakt in de dataset. \n",
    "\n",
    "Hiermee kan een dendrogram gemaakt worden, maar eerst is het van belang om te kijken welke oorspronkelijke features tegenover elkaar geplot kunnen worden, waarbij clusters tevoorschijn kunnen komen."
   ]
  },
  {
   "cell_type": "code",
   "execution_count": 37,
   "id": "be509191",
   "metadata": {},
   "outputs": [
    {
     "data": {
      "image/png": "[encoded data removed]",
      "text/plain": [
       "<Figure size 1000x700 with 1 Axes>"
      ]
     },
     "metadata": {},
     "output_type": "display_data"
    }
   ],
   "source": [
    "import scipy.cluster.hierarchy as shc\n",
    "import matplotlib.pyplot as plt\n",
    "\n",
    "plt.figure(figsize=(10, 7))\n",
    "plt.title(\"Country Dendrogram\")\n",
    "\n",
    "# Selecting Annual Income and Spending Scores by index\n",
    "selected_data = biomass_data_oh\n",
    "clusters = shc.linkage(selected_data, \n",
    "            method='ward', \n",
    "            metric=\"euclidean\")\n",
    "shc.dendrogram(Z=clusters)\n",
    "plt.show()"
   ]
  },
  {
   "cell_type": "markdown",
   "id": "a9c5e2a3",
   "metadata": {},
   "source": [
    "Het vinden van het aantal clusters is een beetje puzzelen. Er moet gekeken worden naar de grootste horizontale vlakte in een Dendrogram waar de grootste verticale lijnen door passeren. Twee mogelijke opties hierin zijn of een lijn trekken op een y van 350, of op een y van rond de 125. De lijn die door y = 350 passeert heeft echter niet de grootste verticale lijnen door zich heen lopen. Daarnaast hebben we met de Seaborn plots al een visuele indicatie van 5 clusters gezien. Dit betekent dat we een lijn trekken op y = 125."
   ]
  },
  {
   "cell_type": "code",
   "execution_count": 38,
   "id": "b317a308",
   "metadata": {},
   "outputs": [
    {
     "data": {
      "text/plain": [
       "<matplotlib.lines.Line2D at 0x7f314a32ace0>"
      ]
     },
     "execution_count": 38,
     "metadata": {},
     "output_type": "execute_result"
    },
    {
     "data": {
      "image/png": "[encoded data removed]",
      "text/plain": [
       "<Figure size 1000x700 with 1 Axes>"
      ]
     },
     "metadata": {},
     "output_type": "display_data"
    }
   ],
   "source": [
    "plt.figure(figsize=(10, 7))\n",
    "plt.title(\"Customers Dendrogram with line\")\n",
    "clusters = shc.linkage(selected_data, \n",
    "            method='ward', \n",
    "            metric=\"euclidean\")\n",
    "shc.dendrogram(clusters)\n",
    "plt.axhline(y = 0.4e6, color = 'r', linestyle = '-')\n"
   ]
  },
  {
   "cell_type": "code",
   "execution_count": 39,
   "id": "2fc5aa1f",
   "metadata": {},
   "outputs": [
    {
     "data": {
      "text/plain": [
       "array([2, 2, 1, 1, 1, 1, 0, 0, 0, 0, 0, 0, 0, 0, 0, 0, 0, 0, 0, 0, 0, 0,\n",
       "       0, 0, 0, 0, 0])"
      ]
     },
     "execution_count": 39,
     "metadata": {},
     "output_type": "execute_result"
    }
   ],
   "source": [
    "from sklearn.cluster import AgglomerativeClustering\n",
    "\n",
    "clustering_model = AgglomerativeClustering(n_clusters=3, metric='euclidean', linkage='ward')\n",
    "clustering_model.fit(selected_data)\n",
    "clustering_model.labels_"
   ]
  },
  {
   "cell_type": "code",
   "execution_count": 40,
   "id": "93a11db5",
   "metadata": {},
   "outputs": [
    {
     "data": {
      "text/html": [
       "<div>\n",
       "<style scoped>\n",
       "    .dataframe tbody tr th:only-of-type {\n",
       "        vertical-align: middle;\n",
       "    }\n",
       "\n",
       "    .dataframe tbody tr th {\n",
       "        vertical-align: top;\n",
       "    }\n",
       "\n",
       "    .dataframe thead th {\n",
       "        text-align: right;\n",
       "    }\n",
       "</style>\n",
       "<table border=\"1\" class=\"dataframe\">\n",
       "  <thead>\n",
       "    <tr style=\"text-align: right;\">\n",
       "      <th></th>\n",
       "      <th>Value (THOUSAND TONS)</th>\n",
       "      <th>Geopolitical Entity (Id)_AT</th>\n",
       "      <th>Geopolitical Entity (Id)_BE</th>\n",
       "      <th>Geopolitical Entity (Id)_BG</th>\n",
       "      <th>Geopolitical Entity (Id)_CY</th>\n",
       "      <th>Geopolitical Entity (Id)_CZ</th>\n",
       "      <th>Geopolitical Entity (Id)_DE</th>\n",
       "      <th>Geopolitical Entity (Id)_DK</th>\n",
       "      <th>Geopolitical Entity (Id)_EE</th>\n",
       "      <th>Geopolitical Entity (Id)_EL</th>\n",
       "      <th>...</th>\n",
       "      <th>Geopolitical Entity (Id)_LU</th>\n",
       "      <th>Geopolitical Entity (Id)_LV</th>\n",
       "      <th>Geopolitical Entity (Id)_MT</th>\n",
       "      <th>Geopolitical Entity (Id)_NL</th>\n",
       "      <th>Geopolitical Entity (Id)_PL</th>\n",
       "      <th>Geopolitical Entity (Id)_PT</th>\n",
       "      <th>Geopolitical Entity (Id)_RO</th>\n",
       "      <th>Geopolitical Entity (Id)_SE</th>\n",
       "      <th>Geopolitical Entity (Id)_SI</th>\n",
       "      <th>Geopolitical Entity (Id)_SK</th>\n",
       "    </tr>\n",
       "  </thead>\n",
       "  <tbody>\n",
       "    <tr>\n",
       "      <th>9</th>\n",
       "      <td>956617.601662</td>\n",
       "      <td>0</td>\n",
       "      <td>0</td>\n",
       "      <td>0</td>\n",
       "      <td>0</td>\n",
       "      <td>0</td>\n",
       "      <td>0</td>\n",
       "      <td>0</td>\n",
       "      <td>0</td>\n",
       "      <td>0</td>\n",
       "      <td>...</td>\n",
       "      <td>0</td>\n",
       "      <td>0</td>\n",
       "      <td>0</td>\n",
       "      <td>0</td>\n",
       "      <td>0</td>\n",
       "      <td>0</td>\n",
       "      <td>0</td>\n",
       "      <td>0</td>\n",
       "      <td>0</td>\n",
       "      <td>0</td>\n",
       "    </tr>\n",
       "    <tr>\n",
       "      <th>10</th>\n",
       "      <td>896606.956103</td>\n",
       "      <td>0</td>\n",
       "      <td>0</td>\n",
       "      <td>0</td>\n",
       "      <td>0</td>\n",
       "      <td>0</td>\n",
       "      <td>1</td>\n",
       "      <td>0</td>\n",
       "      <td>0</td>\n",
       "      <td>0</td>\n",
       "      <td>...</td>\n",
       "      <td>0</td>\n",
       "      <td>0</td>\n",
       "      <td>0</td>\n",
       "      <td>0</td>\n",
       "      <td>0</td>\n",
       "      <td>0</td>\n",
       "      <td>0</td>\n",
       "      <td>0</td>\n",
       "      <td>0</td>\n",
       "      <td>0</td>\n",
       "    </tr>\n",
       "    <tr>\n",
       "      <th>14</th>\n",
       "      <td>665788.336188</td>\n",
       "      <td>0</td>\n",
       "      <td>0</td>\n",
       "      <td>0</td>\n",
       "      <td>0</td>\n",
       "      <td>0</td>\n",
       "      <td>0</td>\n",
       "      <td>0</td>\n",
       "      <td>0</td>\n",
       "      <td>0</td>\n",
       "      <td>...</td>\n",
       "      <td>0</td>\n",
       "      <td>0</td>\n",
       "      <td>0</td>\n",
       "      <td>0</td>\n",
       "      <td>0</td>\n",
       "      <td>0</td>\n",
       "      <td>0</td>\n",
       "      <td>0</td>\n",
       "      <td>0</td>\n",
       "      <td>0</td>\n",
       "    </tr>\n",
       "    <tr>\n",
       "      <th>25</th>\n",
       "      <td>551432.126577</td>\n",
       "      <td>0</td>\n",
       "      <td>0</td>\n",
       "      <td>0</td>\n",
       "      <td>0</td>\n",
       "      <td>0</td>\n",
       "      <td>0</td>\n",
       "      <td>0</td>\n",
       "      <td>0</td>\n",
       "      <td>0</td>\n",
       "      <td>...</td>\n",
       "      <td>0</td>\n",
       "      <td>0</td>\n",
       "      <td>0</td>\n",
       "      <td>0</td>\n",
       "      <td>0</td>\n",
       "      <td>0</td>\n",
       "      <td>0</td>\n",
       "      <td>0</td>\n",
       "      <td>0</td>\n",
       "      <td>0</td>\n",
       "    </tr>\n",
       "    <tr>\n",
       "      <th>20</th>\n",
       "      <td>432112.496241</td>\n",
       "      <td>0</td>\n",
       "      <td>0</td>\n",
       "      <td>0</td>\n",
       "      <td>0</td>\n",
       "      <td>0</td>\n",
       "      <td>0</td>\n",
       "      <td>0</td>\n",
       "      <td>0</td>\n",
       "      <td>0</td>\n",
       "      <td>...</td>\n",
       "      <td>0</td>\n",
       "      <td>0</td>\n",
       "      <td>0</td>\n",
       "      <td>0</td>\n",
       "      <td>1</td>\n",
       "      <td>0</td>\n",
       "      <td>0</td>\n",
       "      <td>0</td>\n",
       "      <td>0</td>\n",
       "      <td>0</td>\n",
       "    </tr>\n",
       "  </tbody>\n",
       "</table>\n",
       "<p>5 rows × 28 columns</p>\n",
       "</div>"
      ],
      "text/plain": [
       "    Value (THOUSAND TONS)  Geopolitical Entity (Id)_AT  \\\n",
       "9           956617.601662                            0   \n",
       "10          896606.956103                            0   \n",
       "14          665788.336188                            0   \n",
       "25          551432.126577                            0   \n",
       "20          432112.496241                            0   \n",
       "\n",
       "    Geopolitical Entity (Id)_BE  Geopolitical Entity (Id)_BG  \\\n",
       "9                             0                            0   \n",
       "10                            0                            0   \n",
       "14                            0                            0   \n",
       "25                            0                            0   \n",
       "20                            0                            0   \n",
       "\n",
       "    Geopolitical Entity (Id)_CY  Geopolitical Entity (Id)_CZ  \\\n",
       "9                             0                            0   \n",
       "10                            0                            0   \n",
       "14                            0                            0   \n",
       "25                            0                            0   \n",
       "20                            0                            0   \n",
       "\n",
       "    Geopolitical Entity (Id)_DE  Geopolitical Entity (Id)_DK  \\\n",
       "9                             0                            0   \n",
       "10                            1                            0   \n",
       "14                            0                            0   \n",
       "25                            0                            0   \n",
       "20                            0                            0   \n",
       "\n",
       "    Geopolitical Entity (Id)_EE  Geopolitical Entity (Id)_EL  ...  \\\n",
       "9                             0                            0  ...   \n",
       "10                            0                            0  ...   \n",
       "14                            0                            0  ...   \n",
       "25                            0                            0  ...   \n",
       "20                            0                            0  ...   \n",
       "\n",
       "    Geopolitical Entity (Id)_LU  Geopolitical Entity (Id)_LV  \\\n",
       "9                             0                            0   \n",
       "10                            0                            0   \n",
       "14                            0                            0   \n",
       "25                            0                            0   \n",
       "20                            0                            0   \n",
       "\n",
       "    Geopolitical Entity (Id)_MT  Geopolitical Entity (Id)_NL  \\\n",
       "9                             0                            0   \n",
       "10                            0                            0   \n",
       "14                            0                            0   \n",
       "25                            0                            0   \n",
       "20                            0                            0   \n",
       "\n",
       "    Geopolitical Entity (Id)_PL  Geopolitical Entity (Id)_PT  \\\n",
       "9                             0                            0   \n",
       "10                            0                            0   \n",
       "14                            0                            0   \n",
       "25                            0                            0   \n",
       "20                            1                            0   \n",
       "\n",
       "    Geopolitical Entity (Id)_RO  Geopolitical Entity (Id)_SE  \\\n",
       "9                             0                            0   \n",
       "10                            0                            0   \n",
       "14                            0                            0   \n",
       "25                            0                            0   \n",
       "20                            0                            0   \n",
       "\n",
       "    Geopolitical Entity (Id)_SI  Geopolitical Entity (Id)_SK  \n",
       "9                             0                            0  \n",
       "10                            0                            0  \n",
       "14                            0                            0  \n",
       "25                            0                            0  \n",
       "20                            0                            0  \n",
       "\n",
       "[5 rows x 28 columns]"
      ]
     },
     "execution_count": 40,
     "metadata": {},
     "output_type": "execute_result"
    }
   ],
   "source": [
    "selected_data.head()"
   ]
  },
  {
   "cell_type": "code",
   "execution_count": 43,
   "id": "78d9d191",
   "metadata": {},
   "outputs": [
    {
     "data": {
      "text/plain": [
       "Text(0.5, 1.0, 'Labeled Biomass Data')"
      ]
     },
     "execution_count": 43,
     "metadata": {},
     "output_type": "execute_result"
    },
    {
     "data": {
      "image/png": "[encoded data removed]",
      "text/plain": [
       "<Figure size 1200x800 with 1 Axes>"
      ]
     },
     "metadata": {},
     "output_type": "display_data"
    }
   ],
   "source": [
    "import seaborn as sns\n",
    "sns.set(rc={'figure.figsize':(12,8)})\n",
    "data_labels = clustering_model.labels_\n",
    "sns.barplot(x='Geopolitical Entity (Id)', \n",
    "                y='Value (THOUSAND TONS)', \n",
    "                data=biomass_clustering, \n",
    "                hue=data_labels,\n",
    "                palette=\"rainbow\").set_title('Labeled Biomass Data')"
   ]
  },
  {
   "cell_type": "code",
   "execution_count": null,
   "id": "dadc00c4",
   "metadata": {},
   "outputs": [],
   "source": []
  }
 ],
 "metadata": {
  "kernelspec": {
   "display_name": "miw",
   "language": "python",
   "name": "python3"
  },
  "language_info": {
   "codemirror_mode": {
    "name": "ipython",
    "version": 3
   },
   "file_extension": ".py",
   "mimetype": "text/x-python",
   "name": "python",
   "nbconvert_exporter": "python",
   "pygments_lexer": "ipython3",
   "version": "3.10.8"
  },
  "vscode": {
   "interpreter": {
    "hash": "bf7fa49e5a87e58eab0d44bffe42a679a5dd4e631541ada7f44e8e02a195495a"
   }
  }
 },
 "nbformat": 4,
 "nbformat_minor": 5
}
